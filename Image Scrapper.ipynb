{
 "cells": [
  {
   "cell_type": "code",
   "execution_count": 21,
   "id": "c6d79847-2515-409e-a1df-c9eb9796100f",
   "metadata": {},
   "outputs": [],
   "source": [
    "#Q1. What is Web Scraping? Why is it Used? Give three areas where Web Scraping is used to get data.\n",
    "#Web scraping is the automated process of extracting data from websites. It involves fetching the web pages and parsing the content to retrieve specific information. This technique is widely used because it allows users to gather large amounts of data quickly and efficiently, which would be time-consuming to collect manually.\n",
    "\n",
    "#Three areas where web scraping is commonly used include:\n",
    "\n",
    "#Market Research: Companies scrape competitor websites to analyze pricing, product offerings, and customer reviews.\n",
    "#Data Aggregation: Websites like travel aggregators collect data from various airlines and hotels to provide users with comprehensive options.\n",
    "#Academic Research: Researchers scrape data from online journals and databases to gather information for their studies."
   ]
  },
  {
   "cell_type": "code",
   "execution_count": null,
   "id": "30e1f4d3-aefb-44f0-a51b-e815385edcd1",
   "metadata": {},
   "outputs": [],
   "source": []
  }
 ],
 "metadata": {
  "kernelspec": {
   "display_name": "Python 3 (ipykernel)",
   "language": "python",
   "name": "python3"
  },
  "language_info": {
   "codemirror_mode": {
    "name": "ipython",
    "version": 3
   },
   "file_extension": ".py",
   "mimetype": "text/x-python",
   "name": "python",
   "nbconvert_exporter": "python",
   "pygments_lexer": "ipython3",
   "version": "3.12.4"
  }
 },
 "nbformat": 4,
 "nbformat_minor": 5
}
